{
 "cells": [
  {
   "cell_type": "markdown",
   "id": "57a9bccf",
   "metadata": {},
   "source": [
    "# Little Lemon Database Client.\n"
   ]
  },
  {
   "cell_type": "markdown",
   "id": "2c6119a2",
   "metadata": {},
   "source": [
    "### Prerequisites:\n",
    "#### Setting up the database."
   ]
  },
  {
   "cell_type": "markdown",
   "id": "c83c0090",
   "metadata": {},
   "source": [
    "#### Installing the MySQL-connector-python"
   ]
  },
  {
   "cell_type": "code",
   "execution_count": 7,
   "id": "614cb57a",
   "metadata": {},
   "outputs": [],
   "source": [
    "#!pip install mysql-connector-python"
   ]
  },
  {
   "cell_type": "markdown",
   "id": "fda9d24c",
   "metadata": {},
   "source": [
    "#### Importing packages"
   ]
  },
  {
   "cell_type": "code",
   "execution_count": 3,
   "id": "61017496",
   "metadata": {},
   "outputs": [
    {
     "name": "stdout",
     "output_type": "stream",
     "text": [
      "MySQL Connector/Python API has been imported successfully\n"
     ]
    }
   ],
   "source": [
    "import mysql.connector as connector\n",
    "from mysql.connector import errorcode\n",
    "print(\"MySQL Connector/Python API has been imported successfully\")"
   ]
  },
  {
   "cell_type": "markdown",
   "id": "31ea45e6",
   "metadata": {},
   "source": [
    "### Task 1 - Establishing a connection."
   ]
  },
  {
   "cell_type": "code",
   "execution_count": 10,
   "id": "e6f64d87",
   "metadata": {},
   "outputs": [
    {
     "name": "stdout",
     "output_type": "stream",
     "text": [
      "Establishing a connection between the MySQL database and Python...\n",
      "A connection between the MySQL database and Python has been sucessfully established.\n"
     ]
    }
   ],
   "source": [
    "#Establishing a connection between the MySQL database and Pyhton via the connectore API.\n",
    "print(\"Establishing a connection between the MySQL database and Python...\")\n",
    "\n",
    "\n",
    "try:\n",
    "    connection = connector.connect(\n",
    "                                    user = \"root\",\n",
    "                                    password = \"password\",\n",
    "                                    db = \"little_lemon_database\"\n",
    "                                  )\n",
    "    print(\"A connection between the MySQL database and Python has been sucessfully established.\")\n",
    "\n",
    "    \n",
    "except connector.Error as error:\n",
    "    \n",
    "    if error.errno == errorcode.ER_ACCESS_DENIED_ERROR:\n",
    "        print(\"Connection User or Password incorrect\")\n",
    "    elif error.errno == errorcode.ER_BAD_DB_ERROR:\n",
    "        print(\"Database does not exist\")\n",
    "    else:\n",
    "        print(\"Error code:\", error.errno)\n",
    "        print(\"Error message\", error.msg)\n",
    "    \n",
    "\n",
    "    "
   ]
  },
  {
   "cell_type": "markdown",
   "id": "33b38ab2",
   "metadata": {},
   "source": [
    "### Creating a cursor object.\n"
   ]
  },
  {
   "cell_type": "code",
   "execution_count": 12,
   "id": "9e01db2a",
   "metadata": {},
   "outputs": [
    {
     "name": "stdout",
     "output_type": "stream",
     "text": [
      "A cursor object has been established.\n"
     ]
    }
   ],
   "source": [
    "#Creating a cursor object to communicate with the MySQL database.\n",
    "\n",
    "cursor = connection.cursor()\n",
    "print(\"A cursor object has been established.\")"
   ]
  },
  {
   "cell_type": "markdown",
   "id": "3a24743d",
   "metadata": {},
   "source": [
    "### Task 2  - Displaying The Database Tables."
   ]
  },
  {
   "cell_type": "code",
   "execution_count": 19,
   "id": "2e34030c",
   "metadata": {},
   "outputs": [
    {
     "name": "stdout",
     "output_type": "stream",
     "text": [
      "-------------------------\n",
      "-------Table Names-------\n",
      "-------------------------\n",
      "bookings\n",
      "customers\n",
      "deliverystatus\n",
      "menu\n",
      "menuitems\n",
      "orders\n",
      "ordersview\n",
      "staff\n",
      "table\n"
     ]
    }
   ],
   "source": [
    "#Query obtaining the table names from the database.\n",
    "show_tables = \"\"\"SHOW tables\"\"\"\n",
    "\n",
    "\n",
    "#Executing and fetching results.\n",
    "cursor.execute(show_tables)\n",
    "\n",
    "results = cursor.fetchall()\n",
    "\n",
    "\n",
    "#Printing Results.\n",
    "print(\"-------------------------\")\n",
    "print(\"-------Table Names-------\")\n",
    "print(\"-------------------------\")\n",
    "\n",
    "for tables in results:\n",
    "    print(tables[0])"
   ]
  },
  {
   "cell_type": "markdown",
   "id": "5ab96658",
   "metadata": {},
   "source": [
    "### Task 3 - Querying the tables with a JOIN.\n",
    "Little Lemon want to establish an exhuastive list of all customers who placed an order greater than $60."
   ]
  },
  {
   "cell_type": "code",
   "execution_count": null,
   "id": "5a335df7",
   "metadata": {},
   "outputs": [],
   "source": [
    "#Dropping the promotional campaign procedure if it already exists.\n",
    "cursor.execute(\"\"\"DROP PROCEDURE IF EXISTS PromoCampaign;\"\"\")\n",
    "\n",
    "\n",
    "#Creating a promotional campaign procedure.\n",
    "promotional_campaign = \"\"\"CREATE PROCEDURE PromoCampaign(amount_spent)\n",
    "                          BEGIN\n",
    "                          SELECT Orders.OrderID, Customers.CustomerID, Customers.CustomerName, Customers.ContactNumber, Customers.Email, Orders.Total\n",
    "                          FROM Orders INNER JOIN Customers ON Orders.CustomerID = Customer.CustomerID\n",
    "                          WHERE Total >= amount_spent\n",
    "                          ORDER BY Total DESC;\n",
    "                          END\n",
    "                       \"\"\"\n",
    "\n",
    "\n",
    "#Executing and calling the procedure.\n",
    "promo_threshold = 60\n",
    "cursor.execute(promotional_campaign)\n",
    "cursor.callproc(\"PromoCampaign\", promo_threshold)\n",
    "\n",
    "\n",
    "#Fetching and storing results.\n",
    "query_results = next(cursor.stored_results())\n",
    "query_datasets = query_results.fetchall()\n",
    "\n",
    "#Obtaining column names.\n",
    "for column_id in cursor.stored_results():\n",
    "    columns = [column[0] for column in column_id.description]\n",
    "\n",
    "\n",
    "print(\"-----------------------------------------\")\n",
    "print(\"----------Promotional Campaign-----------\")\n",
    "print(\"--------------Top Spenders---------------\")\n",
    "print(\"-----------------------------------------\")\n",
    "\n",
    "for result in query_datasets:\n",
    "    print(columns[0],\":\",result[0])\n",
    "    print(columns[1],\":\",result[1])\n",
    "    print(columns[2],\":\",result[2])\n",
    "    print(columns[3],\":\",result[3])\n",
    "    print(columns[4],\":\",result[4])\n",
    "    print(columns[5],\":\",result[5])\n",
    "    print(columns[6],\":\",result[6])"
   ]
  },
  {
   "cell_type": "markdown",
   "id": "6373a16e",
   "metadata": {},
   "source": [
    "### Closing the connection"
   ]
  },
  {
   "cell_type": "code",
   "execution_count": null,
   "id": "add66833",
   "metadata": {},
   "outputs": [],
   "source": [
    "if connection.is_connected():\n",
    "    connection.close()\n",
    "    print(\"The connection has been closed\")\n",
    "\n",
    "else:\n",
    "    print(\"The connection is already closed\")\n"
   ]
  }
 ],
 "metadata": {
  "kernelspec": {
   "display_name": "Python 3 (ipykernel)",
   "language": "python",
   "name": "python3"
  },
  "language_info": {
   "codemirror_mode": {
    "name": "ipython",
    "version": 3
   },
   "file_extension": ".py",
   "mimetype": "text/x-python",
   "name": "python",
   "nbconvert_exporter": "python",
   "pygments_lexer": "ipython3",
   "version": "3.9.12"
  }
 },
 "nbformat": 4,
 "nbformat_minor": 5
}
